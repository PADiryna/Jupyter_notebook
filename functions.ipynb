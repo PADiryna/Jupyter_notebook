{
 "cells": [
  {
   "cell_type": "markdown",
   "id": "ffcfefd6-e2b6-4ba7-a458-0d613fceaead",
   "metadata": {},
   "source": [
    "# Cтворення функцій у Python\n",
    "Ключове слово def повідомляє Python, що ви визначаєте функцію. Після def ви вказуєте ім'я функції; воно має відповідати тим самим правилам, що і імена змінних."
   ]
  },
  {
   "cell_type": "code",
   "execution_count": 3,
   "id": "3c587b3a-ae0a-48e7-aea0-1c24907565ae",
   "metadata": {
    "tags": []
   },
   "outputs": [],
   "source": [
    "def add(a, b):\n",
    "    return a+b\n",
    "    "
   ]
  },
  {
   "cell_type": "markdown",
   "id": "fd017c54-0ad9-4990-ac13-eb49d52ab915",
   "metadata": {},
   "source": [
    "\n",
    "Функція приймає 2 числа та повертає їх суму"
   ]
  },
  {
   "cell_type": "code",
   "execution_count": 4,
   "id": "9a25e154-31b4-4dbc-ab66-af6ff103947b",
   "metadata": {
    "tags": []
   },
   "outputs": [
    {
     "name": "stdout",
     "output_type": "stream",
     "text": [
      "4\n"
     ]
    }
   ],
   "source": [
    "print(add(2,2))"
   ]
  }
 ],
 "metadata": {
  "kernelspec": {
   "display_name": "Python 3 (ipykernel)",
   "language": "python",
   "name": "python3"
  },
  "language_info": {
   "codemirror_mode": {
    "name": "ipython",
    "version": 3
   },
   "file_extension": ".py",
   "mimetype": "text/x-python",
   "name": "python",
   "nbconvert_exporter": "python",
   "pygments_lexer": "ipython3",
   "version": "3.11.1"
  }
 },
 "nbformat": 4,
 "nbformat_minor": 5
}
